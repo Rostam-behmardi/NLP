{
  "cells": [
    {
      "cell_type": "code",
      "execution_count": null,
      "metadata": {
        "id": "bl1f5vOrXaLD"
      },
      "outputs": [],
      "source": [
        "from pathlib import Path\n",
        "import shutil\n",
        "import os\n",
        "from fastai.basics import bunzip\n",
        "from fastdownload import download_url\n",
        "import re"
      ]
    },
    {
      "cell_type": "code",
      "execution_count": null,
      "metadata": {
        "id": "LQF1iINYYnYI"
      },
      "outputs": [],
      "source": [
        "def get_wiki(path,lang):\n",
        "    \"\"\"\n",
        "    Built a dump file from all the articles in defined language in wikipedia \n",
        "    and downloaed them in specific path\n",
        "    lang: wikipedi code for language (https://en.wikipedia.org/wiki/List_of_Wikipedias)\n",
        "    path: directory of downloaded dump\n",
        "    \"\"\"\n",
        "    name = f'{lang}wiki'\n",
        "    if (path/name).exists():\n",
        "        print(f\"{path/name} already exists; not downloading\")\n",
        "        return\n",
        "\n",
        "    xml_fn = f\"{lang}wiki-latest-pages-articles.xml\"\n",
        "    zip_fn = f\"{xml_fn}.bz2\"\n",
        "\n",
        "    if not (path/xml_fn).exists():\n",
        "        print(\"downloading...\")\n",
        "        download_url(f'https://dumps.wikimedia.org/{name}/latest/{zip_fn}', path/zip_fn)\n",
        "        print(\"unzipping...\")\n",
        "        bunzip(path/zip_fn)"
      ]
    },
    {
      "cell_type": "code",
      "execution_count": null,
      "metadata": {
        "id": "vsnBBWhMZUKU"
      },
      "outputs": [],
      "source": [
        "# Specified a directory for downloaded dump\n",
        "lang='fa'\n",
        "path_data = Path('/content/') \n",
        "path = path_data/lang\n",
        "path.mkdir(exist_ok=True, parents=True)"
      ]
    },
    {
      "cell_type": "code",
      "execution_count": null,
      "metadata": {
        "colab": {
          "base_uri": "https://localhost:8080/",
          "height": 72
        },
        "id": "fwL7BdYSac89",
        "outputId": "4d6e487d-7a09-4e3c-a1f2-731e4cfb2500"
      },
      "outputs": [
        {
          "name": "stdout",
          "output_type": "stream",
          "text": [
            "downloading...\n"
          ]
        },
        {
          "data": {
            "text/html": [
              "\n",
              "<style>\n",
              "    /* Turns off some styling */\n",
              "    progress {\n",
              "        /* gets rid of default border in Firefox and Opera. */\n",
              "        border: none;\n",
              "        /* Needs to be in here for Safari polyfill so background images work as expected. */\n",
              "        background-size: auto;\n",
              "    }\n",
              "    .progress-bar-interrupted, .progress-bar-interrupted::-webkit-progress-bar {\n",
              "        background: #F44336;\n",
              "    }\n",
              "</style>\n"
            ],
            "text/plain": [
              "<IPython.core.display.HTML object>"
            ]
          },
          "metadata": {},
          "output_type": "display_data"
        },
        {
          "data": {
            "text/html": [
              "\n",
              "    <div>\n",
              "      <progress value='980574208' class='' max='980566408' style='width:300px; height:20px; vertical-align: middle;'></progress>\n",
              "      100.00% [980574208/980566408 03:32<00:00]\n",
              "    </div>\n",
              "    "
            ],
            "text/plain": [
              "<IPython.core.display.HTML object>"
            ]
          },
          "metadata": {},
          "output_type": "display_data"
        },
        {
          "name": "stdout",
          "output_type": "stream",
          "text": [
            "unzipping...\n"
          ]
        }
      ],
      "source": [
        "get_wiki(path, lang)"
      ]
    },
    {
      "cell_type": "code",
      "execution_count": null,
      "metadata": {
        "colab": {
          "base_uri": "https://localhost:8080/"
        },
        "id": "t0M88VNoajz1",
        "outputId": "43bae9ca-d94a-44e6-99c4-910abb0c93f8"
      },
      "outputs": [
        {
          "name": "stdout",
          "output_type": "stream",
          "text": [
            "/content/fa\n"
          ]
        }
      ],
      "source": [
        "# Donwload a wikiextractor and extract text file from wikipedia dump file "
      ]
    },
    {
      "cell_type": "code",
      "execution_count": null,
      "metadata": {
        "colab": {
          "base_uri": "https://localhost:8080/"
        },
        "id": "ba0LlxHqapk9",
        "outputId": "73acd693-03a8-41f3-e79e-5c07bdbea37d"
      },
      "outputs": [
        {
          "name": "stdout",
          "output_type": "stream",
          "text": [
            "Cloning into 'wikiextractor'...\n",
            "remote: Enumerating objects: 766, done.\u001b[K\n",
            "remote: Counting objects: 100% (25/25), done.\u001b[K\n",
            "remote: Compressing objects: 100% (15/15), done.\u001b[K\n",
            "remote: Total 766 (delta 13), reused 19 (delta 10), pack-reused 741\u001b[K\n",
            "Receiving objects: 100% (766/766), 1.31 MiB | 8.78 MiB/s, done.\n",
            "Resolving deltas: 100% (446/446), done.\n"
          ]
        }
      ],
      "source": [
        "%cd fa\n",
        "!git clone https://github.com/attardi/wikiextractor.git"
      ]
    },
    {
      "cell_type": "code",
      "execution_count": null,
      "metadata": {
        "colab": {
          "base_uri": "https://localhost:8080/"
        },
        "id": "P6vFS1V_dZkK",
        "outputId": "7bb50330-5e4e-409a-eb06-96b449df0f1a"
      },
      "outputs": [
        {
          "data": {
            "text/plain": [
              "0"
            ]
          },
          "execution_count": 8,
          "metadata": {},
          "output_type": "execute_result"
        }
      ],
      "source": [
        "os.system('cd wikiextractor && git checkout e4abb4cbd && cd ..')\n",
        "os.system(\"python wikiextractor/WikiExtractor.py --processes 4 --no_templates \" +\n",
        "            f\"--min_text_length 1800 --filter_disambig_pages --log_file log -b 100G -q fawiki-latest-pages-articles.xml.bz2\")"
      ]
    },
    {
      "cell_type": "code",
      "execution_count": null,
      "metadata": {
        "colab": {
          "base_uri": "https://localhost:8080/"
        },
        "id": "ySwxOU2Ddoyn",
        "outputId": "9fb51534-f2f3-45fc-f384-37fb2ec0d18f"
      },
      "outputs": [
        {
          "name": "stdout",
          "output_type": "stream",
          "text": [
            "Mounted at /content/drive\n"
          ]
        }
      ],
      "source": [
        "# add driver to colab\n",
        "from google.colab import drive\n",
        "#drive.mount(\"/content/drive\", force_remount=True)\n",
        "drive.mount('/content/drive')"
      ]
    },
    {
      "cell_type": "code",
      "execution_count": null,
      "metadata": {
        "colab": {
          "base_uri": "https://localhost:8080/"
        },
        "id": "BSdFHRYXlxeT",
        "outputId": "87408c70-d9fe-454f-9aef-0394045105dc"
      },
      "outputs": [
        {
          "data": {
            "text/plain": [
              "(#1) [Path('/content/fa/text/AA/wiki_00')]"
            ]
          },
          "execution_count": 11,
          "metadata": {},
          "output_type": "execute_result"
        }
      ],
      "source": [
        "(path/'text/AA').ls() # path of text file\n",
        "# Move text file to driver \n",
        "shutil.move(\"/content/fa/text/AA/wiki_00\", \"/content/drive/MyDrive/data_lm\")\n",
        "shutil.rmtree(path/'text')"
      ]
    },
    {
      "cell_type": "code",
      "execution_count": null,
      "metadata": {
        "id": "Xn0ZLUPcnvPb"
      },
      "outputs": [],
      "source": [
        "# Define the path for saving articles separately.\n",
        "path_x = Path(\"/content/drive/MyDrive/fa/docs\")\n",
        "path_x.mkdir(exist_ok=True, parents=True)\n",
        "path_w = Path(\"/content/drive/MyDrive/data_lm\")"
      ]
    },
    {
      "cell_type": "code",
      "execution_count": null,
      "metadata": {
        "id": "r20bdSkKpQhh"
      },
      "outputs": [],
      "source": [
        "# Extract the tite of articles\n",
        "title_re = re.compile(rf'<doc id=\"\\d+\" url=\"https://{lang}.wikipedia.org/wiki\\?curid=\\d+\" title=\"([^\"]+)\">')\n",
        "lines = path_w.open()\n",
        "f=None"
      ]
    },
    {
      "cell_type": "code",
      "execution_count": null,
      "metadata": {
        "colab": {
          "base_uri": "https://localhost:8080/"
        },
        "id": "l5gcujuNrKSn",
        "outputId": "97e11739-2927-45b9-dd65-ad84c51ed82b"
      },
      "outputs": [
        {
          "name": "stdout",
          "output_type": "stream",
          "text": [
            "0\n",
            "100000\n",
            "200000\n",
            "300000\n",
            "400000\n",
            "500000\n",
            "600000\n",
            "700000\n",
            "800000\n",
            "900000\n",
            "1000000\n",
            "1100000\n",
            "1200000\n",
            "1300000\n",
            "1400000\n",
            "1500000\n",
            "1600000\n",
            "1700000\n",
            "1800000\n",
            "1900000\n",
            "2000000\n",
            "2100000\n",
            "2200000\n",
            "2300000\n",
            "2400000\n"
          ]
        }
      ],
      "source": [
        "# Extract articels from text file by their title\n",
        "for i,l in enumerate(lines):\n",
        "        if i%100000 == 0: print(i)\n",
        "        if l.startswith('<doc id=\"'):\n",
        "            title = title_re.findall(l)[0].replace('/','_')\n",
        "            if len(title)>150: continue\n",
        "            if f: f.close()\n",
        "            f = (path_x/f'{title}.txt').open('w')\n",
        "        else: f.write(l)\n",
        "f.close()"
      ]
    },
    {
      "cell_type": "code",
      "execution_count": null,
      "metadata": {
        "id": "OTdn2cQyvXzX"
      },
      "outputs": [],
      "source": []
    }
  ],
  "metadata": {
    "colab": {
      "name": "wikipedia_read.ipynb",
      "provenance": []
    },
    "kernelspec": {
      "display_name": "Python 3",
      "name": "python3"
    },
    "language_info": {
      "name": "python"
    }
  },
  "nbformat": 4,
  "nbformat_minor": 0
}
