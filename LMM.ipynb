{
 "cells": [
  {
   "cell_type": "markdown",
   "metadata": {
    "id": "iIIJIAKM4oEL"
   },
   "source": [
    "# Set ups"
   ]
  },
  {
   "cell_type": "code",
   "execution_count": 1,
   "metadata": {
    "id": "DPrEAHQOSJMG"
   },
   "outputs": [],
   "source": [
    "from fastai.text.all import Path, get_text_files,DataBlock,language_model_learner, \\\n",
    "                            partial,TextBlock,RandomSplitter,AWD_LSTM,accuracy, perplexity, valley, slide\n",
    "import pickle\n",
    "path = Path(\"/notebooks/fa\") # Directory of documents\n",
    "path.mkdir(parents=True, exist_ok=True)"
   ]
  },
  {
   "cell_type": "markdown",
   "metadata": {
    "id": "Tv0frfcc44wy"
   },
   "source": [
    "# Dataloaders"
   ]
  },
  {
   "cell_type": "code",
   "execution_count": 4,
   "metadata": {
    "id": "Qd_b-7n21ir6"
   },
   "outputs": [],
   "source": [
    "def txt(path, size=3000):\n",
    "    # Create Sample dataset\n",
    "    i = get_text_files(path, folders='docs')\n",
    "    a = list(np.random.randint(0,len(i),size))\n",
    "    return i[a]\n",
    "\n",
    "text_file = partial(get_text_files, folders= 'docs') # Get all the text files in defined folder"
   ]
  },
  {
   "cell_type": "code",
   "execution_count": 6,
   "metadata": {
    "id": "cP9rrDN0q1lj"
   },
   "outputs": [],
   "source": [
    "def loaders(path,txt_path, vocab=None, bs=64, seq_len=80, \n",
    "            lm=True, split_pr=0.1, back=False):\n",
    "            # Define dataloaders\n",
    "    \n",
    "    result = DataBlock(TextBlock.from_folder(path,is_lm=lm, seq_len=seq_len, backwards=back,vocab=vocab), get_items= txt_path,\n",
    "                    splitter=RandomSplitter(split_pr,seed=123)).dataloaders(path,path,bs=64)\n",
    "    return result"
   ]
  },
  {
   "cell_type": "code",
   "execution_count": 7,
   "metadata": {
    "colab": {
     "base_uri": "https://localhost:8080/",
     "height": 17
    },
    "id": "nNuxrFv1s6di",
    "outputId": "3045fd56-2cdd-4984-ca8a-83e24566bcac"
   },
   "outputs": [],
   "source": [
    "dls = loaders(path, text_file)"
   ]
  },
  {
   "cell_type": "markdown",
   "metadata": {
    "id": "owfsDXYg5E8Q"
   },
   "source": [
    "# Modeling"
   ]
  },
  {
   "cell_type": "code",
   "execution_count": 8,
   "metadata": {
    "id": "4EM4yCjmtmcn"
   },
   "outputs": [],
   "source": [
    "def model(dls, d = 0.1, unfreez=True, pretrain_path=None, pre_t = False,\n",
    "          lr =False):\n",
    "          # Define hyperparametes of AWD_LSTM model\n",
    "    learn = language_model_learner( dls, AWD_LSTM, \n",
    "                                  drop_mult=d, \n",
    "                                  pretrained=pre_t,\n",
    "                                 metrics=[accuracy, perplexity]).to_fp16()\n",
    "    if pretrain_path is not None: learn.load(pretrain_path) \n",
    "    if unfreez: learn.unfreeze()\n",
    "    if lr: learn.lr_find(suggest_funcs=(valley, slide))\n",
    "    return learn\n",
    "\n",
    "learner = model(dls, pretrain_path=\"/notebooks/model/fa_func30\",d=0.1)"
   ]
  },
  {
   "cell_type": "code",
   "execution_count": null,
   "metadata": {
    "colab": {
     "base_uri": "https://localhost:8080/",
     "height": 127
    },
    "id": "h_U98pmC2HIX",
    "outputId": "162ca5ed-88c2-4a9f-a28a-3426e03f4133"
   },
   "outputs": [
    {
     "data": {
      "text/html": [
       "\n",
       "<style>\n",
       "    /* Turns off some styling */\n",
       "    progress {\n",
       "        /* gets rid of default border in Firefox and Opera. */\n",
       "        border: none;\n",
       "        /* Needs to be in here for Safari polyfill so background images work as expected. */\n",
       "        background-size: auto;\n",
       "    }\n",
       "    .progress-bar-interrupted, .progress-bar-interrupted::-webkit-progress-bar {\n",
       "        background: #F44336;\n",
       "    }\n",
       "</style>\n"
      ],
      "text/plain": [
       "<IPython.core.display.HTML object>"
      ]
     },
     "metadata": {},
     "output_type": "display_data"
    },
    {
     "data": {
      "text/html": [
       "\n",
       "    <div>\n",
       "      <progress value='0' class='' max='1' style='width:300px; height:20px; vertical-align: middle;'></progress>\n",
       "      0.00% [0/1 00:00<00:00]\n",
       "    </div>\n",
       "    \n",
       "<table border=\"1\" class=\"dataframe\">\n",
       "  <thead>\n",
       "    <tr style=\"text-align: left;\">\n",
       "      <th>epoch</th>\n",
       "      <th>train_loss</th>\n",
       "      <th>valid_loss</th>\n",
       "      <th>accuracy</th>\n",
       "      <th>perplexity</th>\n",
       "      <th>time</th>\n",
       "    </tr>\n",
       "  </thead>\n",
       "  <tbody>\n",
       "  </tbody>\n",
       "</table><p>\n",
       "\n",
       "    <div>\n",
       "      <progress value='8423' class='' max='10341' style='width:300px; height:20px; vertical-align: middle;'></progress>\n",
       "      81.45% [8423/10341 2:43:11<37:09 4.0549]\n",
       "    </div>\n",
       "    "
      ],
      "text/plain": [
       "<IPython.core.display.HTML object>"
      ]
     },
     "metadata": {},
     "output_type": "display_data"
    }
   ],
   "source": [
    "# train language model with one cycle method.\n",
    "learner.fit_one_cycle(1, 1e-3,moms=(0.8,0.7,0.8))"
   ]
  },
  {
   "cell_type": "markdown",
   "metadata": {
    "id": "FNaItCvz5M6j"
   },
   "source": [
    "# Saving"
   ]
  },
  {
   "cell_type": "code",
   "execution_count": null,
   "metadata": {
    "id": "uh06I-qE1ydT"
   },
   "outputs": [],
   "source": [
    "def save_ml(name,learn = learner ,dls=dls, \n",
    "            path = \"/notebooks/model\", \n",
    "            v = True, with_opt=True):\n",
    "    \"\"\"\n",
    "    Save model and it's vocabulary.\n",
    "    Also save the optimization, status of model.\n",
    "    \"\"\"\n",
    "    learn.export() \n",
    "    pth = Path(path)\n",
    "    pth.mkdir(exist_ok=True, parents=True)\n",
    "    learner.to_fp32().save(pth/f\"{name}\")\n",
    "    if with_opt: learner.to_fp32().save(pth/f\"{name}_w\", with_opt=False)\n",
    "    if v: \n",
    "        with open(pth/f\"vocab_{name}\", \"wb\") as f: pickle.dump(dls.vocab, f)\n",
    "\n",
    "\n",
    "save_ml(\"fa_func31\")"
   ]
  }
 ],
 "metadata": {
  "accelerator": "GPU",
  "colab": {
   "name": "LMM.ipynb",
   "provenance": []
  },
  "gpuClass": "standard",
  "kernelspec": {
   "display_name": "Python 3.10.6 64-bit (microsoft store)",
   "language": "python",
   "name": "python3"
  },
  "language_info": {
   "codemirror_mode": {
    "name": "ipython",
    "version": 3
   },
   "file_extension": ".py",
   "mimetype": "text/x-python",
   "name": "python",
   "nbconvert_exporter": "python",
   "pygments_lexer": "ipython3",
   "version": "3.10.6"
  },
  "vscode": {
   "interpreter": {
    "hash": "634af49c58d98a8fc94f8affd624ddf52a63725c1f2f50e209bffe286148d749"
   }
  }
 },
 "nbformat": 4,
 "nbformat_minor": 4
}
