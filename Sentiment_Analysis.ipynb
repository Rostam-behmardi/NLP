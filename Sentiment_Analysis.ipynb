{
  "cells": [
    {
      "cell_type": "markdown",
      "metadata": {
        "id": "PF0ItYPx-zD_"
      },
      "source": [
        "# Set ups"
      ]
    },
    {
      "cell_type": "code",
      "execution_count": 1,
      "metadata": {
        "colab": {
          "base_uri": "https://localhost:8080/"
        },
        "id": "MlPrfEK7qdQx",
        "outputId": "ddb7d7d0-1357-47cb-a5d0-190b95ab18f1"
      },
      "outputs": [
        {
          "data": {
            "text/plain": [
              "<torch._C.Generator at 0x7f970e70fb50>"
            ]
          },
          "execution_count": 1,
          "metadata": {},
          "output_type": "execute_result"
        }
      ],
      "source": [
        "from fastai.text.all import Path, DataBlock, TextBlock, ColReader, RandomSplitter, \\\n",
        "                                    CategoryBlock,language_model_learner, AWD_LSTM, text_classifier_learner,valley, slide\n",
        "import pandas as pd\n",
        "import pickle\n",
        "import torch\n",
        "torch.manual_seed(0)"
      ]
    },
    {
      "cell_type": "code",
      "execution_count": 2,
      "metadata": {
        "colab": {
          "base_uri": "https://localhost:8080/"
        },
        "id": "TF7TK0uFqFa7",
        "outputId": "168d4af0-b1f7-4c4e-f28a-e50d4d10ba35"
      },
      "outputs": [
        {
          "name": "stdout",
          "output_type": "stream",
          "text": [
            "Mounted at /content/gdrive\n"
          ]
        }
      ],
      "source": [
        "from google.colab import drive\n",
        "drive.mount(\"/content/gdrive\")"
      ]
    },
    {
      "cell_type": "code",
      "execution_count": 3,
      "metadata": {
        "id": "JtBDRak8vaKN"
      },
      "outputs": [],
      "source": [
        "path = Path(\"/content/gdrive/MyDrive/sent\")\n",
        "path.mkdir(parents=True, exist_ok=True)"
      ]
    },
    {
      "cell_type": "markdown",
      "metadata": {
        "id": "Ku3SJgsF4gDB"
      },
      "source": [
        "# Reading raw data and saving the final table"
      ]
    },
    {
      "cell_type": "code",
      "execution_count": null,
      "metadata": {
        "colab": {
          "base_uri": "https://localhost:8080/",
          "height": 337
        },
        "id": "C8t5Ns1Nris4",
        "outputId": "f41a814b-fbf9-4c04-8c02-18e4f4fe95b6"
      },
      "outputs": [
        {
          "data": {
            "text/html": [
              "\n",
              "  <div id=\"df-f63f5f5f-ef24-4417-973a-dccf2548af6f\">\n",
              "    <div class=\"colab-df-container\">\n",
              "      <div>\n",
              "<style scoped>\n",
              "    .dataframe tbody tr th:only-of-type {\n",
              "        vertical-align: middle;\n",
              "    }\n",
              "\n",
              "    .dataframe tbody tr th {\n",
              "        vertical-align: top;\n",
              "    }\n",
              "\n",
              "    .dataframe thead th {\n",
              "        text-align: right;\n",
              "    }\n",
              "</style>\n",
              "<table border=\"1\" class=\"dataframe\">\n",
              "  <thead>\n",
              "    <tr style=\"text-align: right;\">\n",
              "      <th></th>\n",
              "      <th>index</th>\n",
              "      <th>sid</th>\n",
              "      <th>text</th>\n",
              "      <th>polarity</th>\n",
              "      <th>file</th>\n",
              "    </tr>\n",
              "  </thead>\n",
              "  <tbody>\n",
              "    <tr>\n",
              "      <th>0</th>\n",
              "      <td>0</td>\n",
              "      <td>rev-1</td>\n",
              "      <td>اینک قصد داریم پرینتر دیگری از پرینترهای لیزری کمپانی Hp را معرفی کنیم.</td>\n",
              "      <td>0</td>\n",
              "      <td>data/main/HP LaserJet M1132.xml</td>\n",
              "    </tr>\n",
              "    <tr>\n",
              "      <th>1</th>\n",
              "      <td>1</td>\n",
              "      <td>rev-2</td>\n",
              "      <td>پرینتری چند کاره از رده‌ی Entry Level یا سطح مبتدی.</td>\n",
              "      <td>0</td>\n",
              "      <td>data/main/HP LaserJet M1132.xml</td>\n",
              "    </tr>\n",
              "    <tr>\n",
              "      <th>2</th>\n",
              "      <td>2</td>\n",
              "      <td>rev-3</td>\n",
              "      <td>به هر صورت اکنون ما در دنیایی زندگی می‌کنیم،  که کاربران پرینترها انتظارات بالاتری علاوه بر گرفتن پرینت ساده از دستگاه خود دارند.</td>\n",
              "      <td>0</td>\n",
              "      <td>data/main/HP LaserJet M1132.xml</td>\n",
              "    </tr>\n",
              "    <tr>\n",
              "      <th>3</th>\n",
              "      <td>3</td>\n",
              "      <td>rev-4</td>\n",
              "      <td>به صورتی که توانایی کپی کردن،  اسکن،  فکس،  پرینت عکس،  پرینت دورو،  قابلیت اتصال از طریق Bluetooth و WiFi را نیز باید داشته باشد.</td>\n",
              "      <td>0</td>\n",
              "      <td>data/main/HP LaserJet M1132.xml</td>\n",
              "    </tr>\n",
              "    <tr>\n",
              "      <th>4</th>\n",
              "      <td>4</td>\n",
              "      <td>rev-5</td>\n",
              "      <td>به هر صورت معمولا چیزی که بیشتر کاربران از پرینتری پر کار در این سطح قیمت برای خانه و یا دفتر کار انتظار دارند،  تولید پرینت های با کیفیت بالا،  با سرعت زیاد و البته هزینه‌ی نگهداری پایین است.</td>\n",
              "      <td>2</td>\n",
              "      <td>data/main/HP LaserJet M1132.xml</td>\n",
              "    </tr>\n",
              "  </tbody>\n",
              "</table>\n",
              "</div>\n",
              "      <button class=\"colab-df-convert\" onclick=\"convertToInteractive('df-f63f5f5f-ef24-4417-973a-dccf2548af6f')\"\n",
              "              title=\"Convert this dataframe to an interactive table.\"\n",
              "              style=\"display:none;\">\n",
              "        \n",
              "  <svg xmlns=\"http://www.w3.org/2000/svg\" height=\"24px\"viewBox=\"0 0 24 24\"\n",
              "       width=\"24px\">\n",
              "    <path d=\"M0 0h24v24H0V0z\" fill=\"none\"/>\n",
              "    <path d=\"M18.56 5.44l.94 2.06.94-2.06 2.06-.94-2.06-.94-.94-2.06-.94 2.06-2.06.94zm-11 1L8.5 8.5l.94-2.06 2.06-.94-2.06-.94L8.5 2.5l-.94 2.06-2.06.94zm10 10l.94 2.06.94-2.06 2.06-.94-2.06-.94-.94-2.06-.94 2.06-2.06.94z\"/><path d=\"M17.41 7.96l-1.37-1.37c-.4-.4-.92-.59-1.43-.59-.52 0-1.04.2-1.43.59L10.3 9.45l-7.72 7.72c-.78.78-.78 2.05 0 2.83L4 21.41c.39.39.9.59 1.41.59.51 0 1.02-.2 1.41-.59l7.78-7.78 2.81-2.81c.8-.78.8-2.07 0-2.86zM5.41 20L4 18.59l7.72-7.72 1.47 1.35L5.41 20z\"/>\n",
              "  </svg>\n",
              "      </button>\n",
              "      \n",
              "  <style>\n",
              "    .colab-df-container {\n",
              "      display:flex;\n",
              "      flex-wrap:wrap;\n",
              "      gap: 12px;\n",
              "    }\n",
              "\n",
              "    .colab-df-convert {\n",
              "      background-color: #E8F0FE;\n",
              "      border: none;\n",
              "      border-radius: 50%;\n",
              "      cursor: pointer;\n",
              "      display: none;\n",
              "      fill: #1967D2;\n",
              "      height: 32px;\n",
              "      padding: 0 0 0 0;\n",
              "      width: 32px;\n",
              "    }\n",
              "\n",
              "    .colab-df-convert:hover {\n",
              "      background-color: #E2EBFA;\n",
              "      box-shadow: 0px 1px 2px rgba(60, 64, 67, 0.3), 0px 1px 3px 1px rgba(60, 64, 67, 0.15);\n",
              "      fill: #174EA6;\n",
              "    }\n",
              "\n",
              "    [theme=dark] .colab-df-convert {\n",
              "      background-color: #3B4455;\n",
              "      fill: #D2E3FC;\n",
              "    }\n",
              "\n",
              "    [theme=dark] .colab-df-convert:hover {\n",
              "      background-color: #434B5C;\n",
              "      box-shadow: 0px 1px 3px 1px rgba(0, 0, 0, 0.15);\n",
              "      filter: drop-shadow(0px 1px 2px rgba(0, 0, 0, 0.3));\n",
              "      fill: #FFFFFF;\n",
              "    }\n",
              "  </style>\n",
              "\n",
              "      <script>\n",
              "        const buttonEl =\n",
              "          document.querySelector('#df-f63f5f5f-ef24-4417-973a-dccf2548af6f button.colab-df-convert');\n",
              "        buttonEl.style.display =\n",
              "          google.colab.kernel.accessAllowed ? 'block' : 'none';\n",
              "\n",
              "        async function convertToInteractive(key) {\n",
              "          const element = document.querySelector('#df-f63f5f5f-ef24-4417-973a-dccf2548af6f');\n",
              "          const dataTable =\n",
              "            await google.colab.kernel.invokeFunction('convertToInteractive',\n",
              "                                                     [key], {});\n",
              "          if (!dataTable) return;\n",
              "\n",
              "          const docLinkHtml = 'Like what you see? Visit the ' +\n",
              "            '<a target=\"_blank\" href=https://colab.research.google.com/notebooks/data_table.ipynb>data table notebook</a>'\n",
              "            + ' to learn more about interactive tables.';\n",
              "          element.innerHTML = '';\n",
              "          dataTable['output_type'] = 'display_data';\n",
              "          await google.colab.output.renderOutput(dataTable, element);\n",
              "          const docLink = document.createElement('div');\n",
              "          docLink.innerHTML = docLinkHtml;\n",
              "          element.appendChild(docLink);\n",
              "        }\n",
              "      </script>\n",
              "    </div>\n",
              "  </div>\n",
              "  "
            ],
            "text/plain": [
              "   index    sid  \\\n",
              "0      0  rev-1   \n",
              "1      1  rev-2   \n",
              "2      2  rev-3   \n",
              "3      3  rev-4   \n",
              "4      4  rev-5   \n",
              "\n",
              "                                                                                                                                                                                               text  \\\n",
              "0                                                                                                                           اینک قصد داریم پرینتر دیگری از پرینترهای لیزری کمپانی Hp را معرفی کنیم.   \n",
              "1                                                                                                                                               پرینتری چند کاره از رده‌ی Entry Level یا سطح مبتدی.   \n",
              "2                                                                 به هر صورت اکنون ما در دنیایی زندگی می‌کنیم،  که کاربران پرینترها انتظارات بالاتری علاوه بر گرفتن پرینت ساده از دستگاه خود دارند.   \n",
              "3                                                                به صورتی که توانایی کپی کردن،  اسکن،  فکس،  پرینت عکس،  پرینت دورو،  قابلیت اتصال از طریق Bluetooth و WiFi را نیز باید داشته باشد.   \n",
              "4  به هر صورت معمولا چیزی که بیشتر کاربران از پرینتری پر کار در این سطح قیمت برای خانه و یا دفتر کار انتظار دارند،  تولید پرینت های با کیفیت بالا،  با سرعت زیاد و البته هزینه‌ی نگهداری پایین است.   \n",
              "\n",
              "   polarity                             file  \n",
              "0         0  data/main/HP LaserJet M1132.xml  \n",
              "1         0  data/main/HP LaserJet M1132.xml  \n",
              "2         0  data/main/HP LaserJet M1132.xml  \n",
              "3         0  data/main/HP LaserJet M1132.xml  \n",
              "4         2  data/main/HP LaserJet M1132.xml  "
            ]
          },
          "execution_count": 5,
          "metadata": {},
          "output_type": "execute_result"
        }
      ],
      "source": [
        "# Raw comments\n",
        "df = pd.read_excel(\"/content/gdrive/MyDrive/sentipers.xlsx\")\n",
        "df.head()"
      ]
    },
    {
      "cell_type": "code",
      "execution_count": null,
      "metadata": {
        "id": "iH-ETYJvr9AJ"
      },
      "outputs": [],
      "source": [
        "def id(x):\n",
        "   \"\"\"\n",
        "   Tagging comments based on polarity column.\n",
        "   positive = 2\n",
        "   negative = 0\n",
        "   neutral = 1\n",
        "   \"\"\"\n",
        "   if x > 0:\n",
        "     r = 2\n",
        "   elif x < 0:\n",
        "     r = 0\n",
        "   else: \n",
        "     r = 1\n",
        "   return r\n",
        "   \n",
        "df['target'] = df.polarity.apply(lambda x: id(x))"
      ]
    },
    {
      "cell_type": "code",
      "execution_count": null,
      "metadata": {
        "id": "8cwSpKVRsIpk"
      },
      "outputs": [],
      "source": [
        "df_f = df[['text', 'target']] # Clean the dataset\n",
        "with open(path/'df', 'wb') as f: pickle.dump(df_f, f) # Save the cleaned dataset"
      ]
    },
    {
      "cell_type": "markdown",
      "metadata": {
        "id": "gCS97L_-4xH-"
      },
      "source": [
        "# training a language model"
      ]
    },
    {
      "cell_type": "code",
      "execution_count": 4,
      "metadata": {
        "id": "k2-Ruh-25aDk"
      },
      "outputs": [],
      "source": [
        "def loader(df_path, is_lm= True, back=False, txt_c=\"text\",target=\"target\", \n",
        "           vocab_dir = None,\n",
        "           seq_len=72, bs=64, sp_pr=0.01):\n",
        "    if is_lm:\n",
        "        # Dataloder for language model\n",
        "        if (df_path.parent/f'dss_{back}.pkl').exists(): \n",
        "            res = torch.load(df_path.parent/f'dss_{back}.pkl').dataloaders(bs=bs)\n",
        "        else:\n",
        "            df = pickle.load(open(df_path,'rb'))\n",
        "            dss = DataBlock(TextBlock.from_df(txt_c, is_lm=is_lm, \n",
        "                                              seq_len=seq_len, backwards=back)\n",
        "                  ,get_items=ColReader(txt_c)\n",
        "                  ,splitter= RandomSplitter(sp_pr)\n",
        "                  ).datasets(df)\n",
        "            torch.save(dss, df_path.parent/f\"dss_{back}.pkl\")\n",
        "            res = dss.dataloaders(bs = bs)\n",
        "        \n",
        "    else:\n",
        "        # Dataloder for sentiment analysis\n",
        "        if vocab_dir is None:\n",
        "            vocab = pickle.load(open(df_path.parent/'vocab_sen','rb'))\n",
        "        else: vocab = pickle.load(open(vocab_dir,\"rb\"))\n",
        "        df = pickle.load(open(df_path,'rb'))\n",
        "        res = DataBlock(blocks=[TextBlock.from_df(txt_c,\n",
        "                                                  vocab=vocab,\n",
        "                                                  seq_len=seq_len,\n",
        "                                                  is_lm=False, backwards=back),\n",
        "                          CategoryBlock], \n",
        "                  get_x=ColReader(txt_c), \n",
        "                  get_y=ColReader(target),\n",
        "                  splitter= RandomSplitter(sp_pr)).dataloaders(df, bs=bs)\n",
        "\n",
        "    return res\n",
        "\n",
        "dls = loader(path/'df',bs=128)"
      ]
    },
    {
      "cell_type": "code",
      "execution_count": 5,
      "metadata": {
        "id": "KRdYfpbwne0_"
      },
      "outputs": [],
      "source": [
        "# Pre-trained model on wikipedia and it's list of vocabularies\n",
        "fname = [\"/content/gdrive/MyDrive/fa_func19_w.pth\",\n",
        "          \"/content/gdrive/MyDrive/vocab_fa_func19\"]\n",
        "\n",
        "def lm(dls ,fname, is_lm=True, mal=0.1,encoder_dir=None):\n",
        "    if is_lm:\n",
        "        # language model learner\n",
        "        lm= language_model_learner(dls, AWD_LSTM, \n",
        "                                  pretrained = False,\n",
        "                                  drop_mult=mal, \n",
        "                                  metrics=[accuracy, perplexity]).to_fp16()\n",
        "\n",
        "        lm.load_pretrained(*fname)\n",
        "    else:\n",
        "        # load pre-trained language model encoder\n",
        "        encoder_dir = (path/'encoder') if encoder_dir is None else encoder_dir\n",
        "        # text classifier learner\n",
        "        lm = text_classifier_learner(dls_m, AWD_LSTM, \n",
        "                                  pretrained = False,\n",
        "                                  drop_mult=mal, \n",
        "                                  metrics=[accuracy, perplexity]).to_fp16()\n",
        "    return lm\n",
        "\n"
      ]
    },
    {
      "cell_type": "markdown",
      "metadata": {
        "id": "fu8mjrdTlmP4"
      },
      "source": [
        "# Fine tuen model"
      ]
    },
    {
      "cell_type": "code",
      "execution_count": null,
      "metadata": {
        "colab": {
          "base_uri": "https://localhost:8080/",
          "height": 300
        },
        "id": "9ZnEAlggTHSc",
        "outputId": "ad23040c-f9d1-4d31-92fc-cd025621f0d3"
      },
      "outputs": [
        {
          "data": {
            "text/html": [
              "\n",
              "<style>\n",
              "    /* Turns off some styling */\n",
              "    progress {\n",
              "        /* gets rid of default border in Firefox and Opera. */\n",
              "        border: none;\n",
              "        /* Needs to be in here for Safari polyfill so background images work as expected. */\n",
              "        background-size: auto;\n",
              "    }\n",
              "    progress:not([value]), progress:not([value])::-webkit-progress-bar {\n",
              "        background: repeating-linear-gradient(45deg, #7e7e7e, #7e7e7e 10px, #5c5c5c 10px, #5c5c5c 20px);\n",
              "    }\n",
              "    .progress-bar-interrupted, .progress-bar-interrupted::-webkit-progress-bar {\n",
              "        background: #F44336;\n",
              "    }\n",
              "</style>\n"
            ],
            "text/plain": [
              "<IPython.core.display.HTML object>"
            ]
          },
          "metadata": {},
          "output_type": "display_data"
        },
        {
          "data": {
            "text/html": [
              "<table border=\"1\" class=\"dataframe\">\n",
              "  <thead>\n",
              "    <tr style=\"text-align: left;\">\n",
              "      <th>epoch</th>\n",
              "      <th>train_loss</th>\n",
              "      <th>valid_loss</th>\n",
              "      <th>accuracy</th>\n",
              "      <th>perplexity</th>\n",
              "      <th>time</th>\n",
              "    </tr>\n",
              "  </thead>\n",
              "  <tbody>\n",
              "    <tr>\n",
              "      <td>0</td>\n",
              "      <td>3.984418</td>\n",
              "      <td>4.120013</td>\n",
              "      <td>0.259766</td>\n",
              "      <td>61.560059</td>\n",
              "      <td>00:28</td>\n",
              "    </tr>\n",
              "    <tr>\n",
              "      <td>1</td>\n",
              "      <td>3.942671</td>\n",
              "      <td>4.611005</td>\n",
              "      <td>0.224330</td>\n",
              "      <td>100.585220</td>\n",
              "      <td>00:27</td>\n",
              "    </tr>\n",
              "    <tr>\n",
              "      <td>2</td>\n",
              "      <td>3.815038</td>\n",
              "      <td>4.103494</td>\n",
              "      <td>0.275949</td>\n",
              "      <td>60.551495</td>\n",
              "      <td>00:28</td>\n",
              "    </tr>\n",
              "    <tr>\n",
              "      <td>3</td>\n",
              "      <td>3.523463</td>\n",
              "      <td>3.910339</td>\n",
              "      <td>0.296596</td>\n",
              "      <td>49.915874</td>\n",
              "      <td>00:30</td>\n",
              "    </tr>\n",
              "    <tr>\n",
              "      <td>4</td>\n",
              "      <td>3.183938</td>\n",
              "      <td>3.843918</td>\n",
              "      <td>0.328404</td>\n",
              "      <td>46.708099</td>\n",
              "      <td>00:27</td>\n",
              "    </tr>\n",
              "    <tr>\n",
              "      <td>5</td>\n",
              "      <td>2.814990</td>\n",
              "      <td>3.791279</td>\n",
              "      <td>0.342634</td>\n",
              "      <td>44.313053</td>\n",
              "      <td>00:28</td>\n",
              "    </tr>\n",
              "    <tr>\n",
              "      <td>6</td>\n",
              "      <td>2.452304</td>\n",
              "      <td>3.797991</td>\n",
              "      <td>0.353237</td>\n",
              "      <td>44.611481</td>\n",
              "      <td>00:30</td>\n",
              "    </tr>\n",
              "    <tr>\n",
              "      <td>7</td>\n",
              "      <td>2.193605</td>\n",
              "      <td>3.821512</td>\n",
              "      <td>0.357422</td>\n",
              "      <td>45.673237</td>\n",
              "      <td>00:28</td>\n",
              "    </tr>\n",
              "  </tbody>\n",
              "</table>"
            ],
            "text/plain": [
              "<IPython.core.display.HTML object>"
            ]
          },
          "metadata": {},
          "output_type": "display_data"
        }
      ],
      "source": [
        "model = lm(dls, fname,mal=0.6)\n",
        "model.freeze_to(-1)\n",
        "model.fit_one_cycle(1, 1e-1,moms=(0.8,0.7,0.8))\n",
        "model.unfreeze()\n",
        "model.fit_one_cycle(8, slice(5e-3, 11e-2),moms=(0.8,0.7,0.8))"
      ]
    },
    {
      "cell_type": "markdown",
      "metadata": {
        "id": "FmSOwoecLI9w"
      },
      "source": [
        "# save language model"
      ]
    },
    {
      "cell_type": "code",
      "execution_count": null,
      "metadata": {
        "id": "Bl4SX56o6-gZ"
      },
      "outputs": [],
      "source": [
        "def save(dls, model,path=path):\n",
        "    if (path/'vocab_sen00').exists(): (path/'vocab_sen00').unlink()\n",
        "    if (path/'encoder_f_00').exists(): (path/'encoder_f00').unlink()\n",
        "    with open(path/'vocab_sen_00','wb') as v : pickle.dump(dls.vocab, v)\n",
        "    model.save_encoder(path/'encoder_00')\n",
        "\n",
        "save(dls, model)"
      ]
    },
    {
      "cell_type": "markdown",
      "metadata": {
        "id": "fqZFeZ2bpvYs"
      },
      "source": [
        "# Train classifier"
      ]
    },
    {
      "cell_type": "code",
      "execution_count": 253,
      "metadata": {
        "colab": {
          "base_uri": "https://localhost:8080/",
          "height": 300
        },
        "id": "hibh9g4Nu-qk",
        "outputId": "5b295783-7f72-4956-b95b-f3eed55a7dd4"
      },
      "outputs": [
        {
          "data": {
            "text/html": [
              "\n",
              "<style>\n",
              "    /* Turns off some styling */\n",
              "    progress {\n",
              "        /* gets rid of default border in Firefox and Opera. */\n",
              "        border: none;\n",
              "        /* Needs to be in here for Safari polyfill so background images work as expected. */\n",
              "        background-size: auto;\n",
              "    }\n",
              "    progress:not([value]), progress:not([value])::-webkit-progress-bar {\n",
              "        background: repeating-linear-gradient(45deg, #7e7e7e, #7e7e7e 10px, #5c5c5c 10px, #5c5c5c 20px);\n",
              "    }\n",
              "    .progress-bar-interrupted, .progress-bar-interrupted::-webkit-progress-bar {\n",
              "        background: #F44336;\n",
              "    }\n",
              "</style>\n"
            ],
            "text/plain": [
              "<IPython.core.display.HTML object>"
            ]
          },
          "metadata": {},
          "output_type": "display_data"
        },
        {
          "data": {
            "text/html": [
              "<table border=\"1\" class=\"dataframe\">\n",
              "  <thead>\n",
              "    <tr style=\"text-align: left;\">\n",
              "      <th>epoch</th>\n",
              "      <th>train_loss</th>\n",
              "      <th>valid_loss</th>\n",
              "      <th>accuracy</th>\n",
              "      <th>perplexity</th>\n",
              "      <th>time</th>\n",
              "    </tr>\n",
              "  </thead>\n",
              "  <tbody>\n",
              "    <tr>\n",
              "      <td>0</td>\n",
              "      <td>0.894580</td>\n",
              "      <td>1.894804</td>\n",
              "      <td>0.538462</td>\n",
              "      <td>6.651241</td>\n",
              "      <td>00:19</td>\n",
              "    </tr>\n",
              "    <tr>\n",
              "      <td>1</td>\n",
              "      <td>0.804955</td>\n",
              "      <td>8.056778</td>\n",
              "      <td>0.410256</td>\n",
              "      <td>3155.107910</td>\n",
              "      <td>00:19</td>\n",
              "    </tr>\n",
              "    <tr>\n",
              "      <td>2</td>\n",
              "      <td>0.724384</td>\n",
              "      <td>1.872004</td>\n",
              "      <td>0.634615</td>\n",
              "      <td>6.501309</td>\n",
              "      <td>00:19</td>\n",
              "    </tr>\n",
              "    <tr>\n",
              "      <td>3</td>\n",
              "      <td>0.642418</td>\n",
              "      <td>1.021325</td>\n",
              "      <td>0.660256</td>\n",
              "      <td>2.776870</td>\n",
              "      <td>00:18</td>\n",
              "    </tr>\n",
              "    <tr>\n",
              "      <td>4</td>\n",
              "      <td>0.588705</td>\n",
              "      <td>1.474695</td>\n",
              "      <td>0.685897</td>\n",
              "      <td>4.369703</td>\n",
              "      <td>00:19</td>\n",
              "    </tr>\n",
              "    <tr>\n",
              "      <td>5</td>\n",
              "      <td>0.544844</td>\n",
              "      <td>1.515551</td>\n",
              "      <td>0.730769</td>\n",
              "      <td>4.551929</td>\n",
              "      <td>00:18</td>\n",
              "    </tr>\n",
              "    <tr>\n",
              "      <td>6</td>\n",
              "      <td>0.506347</td>\n",
              "      <td>2.474210</td>\n",
              "      <td>0.794872</td>\n",
              "      <td>11.872322</td>\n",
              "      <td>00:18</td>\n",
              "    </tr>\n",
              "    <tr>\n",
              "      <td>7</td>\n",
              "      <td>0.480327</td>\n",
              "      <td>1.294560</td>\n",
              "      <td>0.788462</td>\n",
              "      <td>3.649389</td>\n",
              "      <td>00:18</td>\n",
              "    </tr>\n",
              "  </tbody>\n",
              "</table>"
            ],
            "text/plain": [
              "<IPython.core.display.HTML object>"
            ]
          },
          "metadata": {},
          "output_type": "display_data"
        }
      ],
      "source": [
        "dls_m = loader(path/'df',is_lm=False,bs=64)\n",
        "m = lm(dls_m, None,False,mal=0.3,encoder_dir=\"/content/gdrive/MyDrive/sent/encoder.pth\")\n",
        "m.freeze_to(-1)\n",
        "m.fit_one_cycle(2,4e-2,moms=(0.8,0.7,0.8))\n",
        "m.unfreeze()\n",
        "m.fit_one_cycle(8, slice(6e-5, 4e-2), moms=(0.8,0.7, 0.8),wd=0.2)"
      ]
    },
    {
      "cell_type": "code",
      "execution_count": 255,
      "metadata": {
        "id": "cykX8e_Tifoa"
      },
      "outputs": [],
      "source": [
        "m.export()"
      ]
    }
  ],
  "metadata": {
    "accelerator": "GPU",
    "colab": {
      "collapsed_sections": [
        "PF0ItYPx-zD_",
        "Ku3SJgsF4gDB",
        "gCS97L_-4xH-",
        "fu8mjrdTlmP4",
        "FmSOwoecLI9w",
        "fqZFeZ2bpvYs"
      ],
      "name": "Sentiment_Analysis_Final_6.ipynb",
      "provenance": []
    },
    "gpuClass": "standard",
    "kernelspec": {
      "display_name": "Python 3.10.6 64-bit (microsoft store)",
      "language": "python",
      "name": "python3"
    },
    "language_info": {
      "name": "python",
      "version": "3.10.6"
    },
    "vscode": {
      "interpreter": {
        "hash": "634af49c58d98a8fc94f8affd624ddf52a63725c1f2f50e209bffe286148d749"
      }
    }
  },
  "nbformat": 4,
  "nbformat_minor": 0
}
