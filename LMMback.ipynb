{
 "cells": [
  {
   "cell_type": "markdown",
   "id": "e032c6f7-98f9-4831-9080-f713e8d4db65",
   "metadata": {},
   "source": [
    "# Set ups"
   ]
  },
  {
   "cell_type": "code",
   "execution_count": 23,
   "id": "aab65b9a-ba9b-40f4-a95c-6d8107bcfee3",
   "metadata": {},
   "outputs": [],
   "source": [
    "from fastai.text.all import Path, get_text_files,DataBlock,language_model_learner, \\\n",
    "                            partial,TextBlock,RandomSplitter,AWD_LSTM,accuracy, perplexity, valley, slide\n",
    "import pickle\n",
    "path = Path(\"/notebooks/fa\") # Directory of documents\n",
    "path.mkdir(parents=True, exist_ok=True)"
   ]
  },
  {
   "cell_type": "markdown",
   "id": "b4c25b25-5d22-4a75-8b0c-4054e44152fc",
   "metadata": {},
   "source": [
    "# Dataloaders"
   ]
  },
  {
   "cell_type": "code",
   "execution_count": 25,
   "id": "7bd0261f-5903-4b62-8a7d-e4ce97937637",
   "metadata": {},
   "outputs": [],
   "source": [
    "def txt(path, size=3000):\n",
    "    # Create Sample dataset\n",
    "    i = get_text_files(path, folders='docs')\n",
    "    a = list(np.random.randint(0,len(i),size))\n",
    "    return i[a]\n",
    "\n",
    "text_file = partial(get_text_files, folders= 'docs')"
   ]
  },
  {
   "cell_type": "code",
   "execution_count": 26,
   "id": "12ad48bd-0955-4edf-8836-ff838763b88e",
   "metadata": {},
   "outputs": [],
   "source": [
    "def loaders(path,txt_path, vocab=None, bs=64, seq_len=80, \n",
    "            lm=True, split_pr=0.1, back=False):\n",
    "            # Define dataloaders\n",
    "    \n",
    "    result = DataBlock(TextBlock.from_folder(path,is_lm=lm, seq_len=seq_len, backwards=back,vocab=vocab), get_items= txt_path,\n",
    "                    splitter=RandomSplitter(split_pr,seed=123)).dataloaders(path,path,bs=64)\n",
    "    return result"
   ]
  },
  {
   "cell_type": "code",
   "execution_count": 27,
   "id": "d7b33609-e3e8-40c6-bbc1-c6fcd7b28445",
   "metadata": {},
   "outputs": [],
   "source": [
    "dls = loaders(path, text_file, back=True) # Tokenize text from right to left."
   ]
  },
  {
   "cell_type": "markdown",
   "id": "c79f6ca8-bc0e-4251-b6cb-4180102ce711",
   "metadata": {},
   "source": [
    "# Modeling"
   ]
  },
  {
   "cell_type": "code",
   "execution_count": 28,
   "id": "af85302b-7d40-4be4-bef3-68d08586bb8b",
   "metadata": {},
   "outputs": [],
   "source": [
    "def model(dls, d = 0.1, unfreez=True, pretrain_path=None, pre_t = False,\n",
    "          lr =False):\n",
    "          # Define hyperparametes of AWD_LSTM model\n",
    "    learn = language_model_learner( dls, AWD_LSTM, \n",
    "                                  drop_mult=d, \n",
    "                                  pretrained=pre_t,\n",
    "                                 metrics=[accuracy, perplexity]).to_fp16()\n",
    "    if pretrain_path is not None: learn.load(pretrain_path)\n",
    "    if unfreez: learn.unfreeze()\n",
    "    if lr: learn.lr_find(suggest_funcs=(valley, slide))\n",
    "    return learn\n",
    "\n",
    "#learner = model(dls,d=0.3)\n",
    "learner = model(dls,pretrain_path=\"/notebooks/model/fa_b_func25\",d=0.3)"
   ]
  },
  {
   "cell_type": "code",
   "execution_count": null,
   "id": "953b14c4-9fcc-4449-a3b8-5ae94aace894",
   "metadata": {},
   "outputs": [
    {
     "data": {
      "text/html": [
       "\n",
       "<style>\n",
       "    /* Turns off some styling */\n",
       "    progress {\n",
       "        /* gets rid of default border in Firefox and Opera. */\n",
       "        border: none;\n",
       "        /* Needs to be in here for Safari polyfill so background images work as expected. */\n",
       "        background-size: auto;\n",
       "    }\n",
       "    .progress-bar-interrupted, .progress-bar-interrupted::-webkit-progress-bar {\n",
       "        background: #F44336;\n",
       "    }\n",
       "</style>\n"
      ],
      "text/plain": [
       "<IPython.core.display.HTML object>"
      ]
     },
     "metadata": {},
     "output_type": "display_data"
    },
    {
     "data": {
      "text/html": [
       "\n",
       "    <div>\n",
       "      <progress value='0' class='' max='1' style='width:300px; height:20px; vertical-align: middle;'></progress>\n",
       "      0.00% [0/1 00:00<00:00]\n",
       "    </div>\n",
       "    \n",
       "<table border=\"1\" class=\"dataframe\">\n",
       "  <thead>\n",
       "    <tr style=\"text-align: left;\">\n",
       "      <th>epoch</th>\n",
       "      <th>train_loss</th>\n",
       "      <th>valid_loss</th>\n",
       "      <th>accuracy</th>\n",
       "      <th>perplexity</th>\n",
       "      <th>time</th>\n",
       "    </tr>\n",
       "  </thead>\n",
       "  <tbody>\n",
       "  </tbody>\n",
       "</table><p>\n",
       "\n",
       "    <div>\n",
       "      <progress value='9120' class='' max='10341' style='width:300px; height:20px; vertical-align: middle;'></progress>\n",
       "      88.19% [9120/10341 3:08:53<25:17 4.0444]\n",
       "    </div>\n",
       "    "
      ],
      "text/plain": [
       "<IPython.core.display.HTML object>"
      ]
     },
     "metadata": {},
     "output_type": "display_data"
    }
   ],
   "source": [
    "# train language model with one cycle method.\n",
    "learner.fit_one_cycle(1, 15e-4, moms=(0.8,0.7,0.8))"
   ]
  },
  {
   "cell_type": "markdown",
   "id": "9f6357b7-ffde-44d1-a178-ba99fa0a7cf5",
   "metadata": {},
   "source": [
    "# Saving"
   ]
  },
  {
   "cell_type": "code",
   "execution_count": null,
   "id": "e667e704-3aea-44cb-821a-15dea3b3756f",
   "metadata": {},
   "outputs": [],
   "source": [
    "def save_ml(name,learn = learner ,dls=dls, \n",
    "            path = \"/notebooks/model\", \n",
    "            v = True, with_opt=True):\n",
    "    \"\"\"\n",
    "    Save model and it's vocabulary.\n",
    "    Also save the optimization, status of model.\n",
    "    \"\"\"\n",
    "  \n",
    "    pth = Path(path)\n",
    "    pth.mkdir(exist_ok=True, parents=True)\n",
    "    learner.to_fp32().save(pth/f\"{name}\")\n",
    "    if with_opt: learner.to_fp32().save(pth/f\"{name}_w\", with_opt=False)\n",
    "    if v: \n",
    "        with open(pth/f\"vocab_{name}\", \"wb\") as f: pickle.dump(dls.vocab, f)\n",
    "\n",
    "\n",
    "save_ml(\"fa_b_func26\")"
   ]
  }
 ],
 "metadata": {
  "kernelspec": {
   "display_name": "Python 3.10.6 64-bit (microsoft store)",
   "language": "python",
   "name": "python3"
  },
  "language_info": {
   "codemirror_mode": {
    "name": "ipython",
    "version": 3
   },
   "file_extension": ".py",
   "mimetype": "text/x-python",
   "name": "python",
   "nbconvert_exporter": "python",
   "pygments_lexer": "ipython3",
   "version": "3.10.6"
  },
  "vscode": {
   "interpreter": {
    "hash": "634af49c58d98a8fc94f8affd624ddf52a63725c1f2f50e209bffe286148d749"
   }
  }
 },
 "nbformat": 4,
 "nbformat_minor": 5
}
